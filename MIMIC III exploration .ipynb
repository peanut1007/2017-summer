{
 "cells": [
  {
   "cell_type": "code",
   "execution_count": 8,
   "metadata": {
    "collapsed": false
   },
   "outputs": [],
   "source": [
    "import psycopg2\n",
    "dbname='mydb'\n",
    "user='EllenLin'\n",
    "password=''"
   ]
  },
  {
   "cell_type": "code",
   "execution_count": 5,
   "metadata": {
    "collapsed": true
   },
   "outputs": [],
   "source": [
    "import pandas as pd\n",
    "def tabular(SQL):\n",
    "    \"\"\"Displays the results of a Postgres query using psycopg2 in table form.\n",
    "    \n",
    "    Parameters\n",
    "    ----------\n",
    "    SQL : str\n",
    "        A valid SQL query.\n",
    "    \"\"\"\n",
    "    pd.set_option('display.max_rows', 50)\n",
    "    con = psycopg2.connect(dbname=dbname, user=user, host='localhost', port=5432, password=password)\n",
    "    cur = con.cursor()\n",
    "    try:\n",
    "        cur.execute(SQL)\n",
    "    except (psycopg2.Error) as e:\n",
    "        con.close()\n",
    "        print 'Invalid query!'\n",
    "    colnames = [desc[0] for desc in cur.description]\n",
    "    df = pd.DataFrame(cur.fetchall(), columns=colnames)\n",
    "    print df"
   ]
  },
  {
   "cell_type": "code",
   "execution_count": 20,
   "metadata": {
    "collapsed": false
   },
   "outputs": [
    {
     "name": "stdout",
     "output_type": "stream",
     "text": [
      "                row_id           icd9_id              short_tittle  \\\n",
      "0     1246              1590               Malig neo intestine NOS   \n",
      "1     1247              1591              Malignant neo spleen NEC   \n",
      "2     1248              1598              Mal neo gi/intra-abd NEC   \n",
      "3     1249              1599              Mal neo GI tract ill-def   \n",
      "4     1250              1712               Mal neo soft tissue arm   \n",
      "5     1251              1713               Mal neo soft tissue leg   \n",
      "6     1252              1714               Mal neo soft tis thorax   \n",
      "7     1253              1715              Mal neo soft tis abdomen   \n",
      "8     1254              1716               Mal neo soft tis pelvis   \n",
      "9     1255              1717                   Mal neopl trunk NOS   \n",
      "10    1256              1718               Mal neo soft tissue NEC   \n",
      "11    1257              1719               Mal neo soft tissue NOS   \n",
      "12    1268              17300             Malig neopl skin lip NOS   \n",
      "13    1271              17309               Malig neo skin lip NEC   \n",
      "14    1272              17310             Mal neo eyelid/canth NOS   \n",
      "15    1275              17319             Mal neo eyelid/canth NEC   \n",
      "16    1276              17320               Malig neo skin ear NOS   \n",
      "17    1279              17329             Neo skin ear/ex canl NEC   \n",
      "18    1280              17330             Mal neo skn face NEC/NOS   \n",
      "19    1283              17339             Mal neo skn face NEC/NOS   \n",
      "20    1284              17340             Mal neo sclp/skn nck NOS   \n",
      "21    1287              17349             Mal neo sclp/skn nck NEC   \n",
      "22    1288              17350             Malig neo skin trunk NOS   \n",
      "23    1291              17359             Malig neo skin trunk NEC   \n",
      "24    1292              17360             Mal neo skin up limb NOS   \n",
      "...                ...               ...                       ...   \n",
      "1063  13323             V1045              Hx-male genit malig NOS   \n",
      "1064  13324             V1046              Hx-prostatic malignancy   \n",
      "1065  13325             V1047             Hx-testicular malignancy   \n",
      "1066  13326             V1048             Hx-epididymis malignancy   \n",
      "1067  10103             V160               Family hx-gi malignancy   \n",
      "1068  10104             V161              Fm hx-trach/bronchog mal   \n",
      "1069  10105             V162              Fam hx-intrathoracic mal   \n",
      "1070  10106             V163                Family hx-breast malig   \n",
      "1071  10107             V1640              Fm hx genital malig NOS   \n",
      "1072  10108             V1641               Fm hx ovary malignancy   \n",
      "1073  10109             V1642                 Fm hx prostate malig   \n",
      "1074  10110             V1643                   Fm hx testis malig   \n",
      "1075  10111             V1649              Fm hx genital malig NEC   \n",
      "1076  10112             V1651               Family hx-kidney malig   \n",
      "1077  10113             V1652                 Fam hx-bladder malig   \n",
      "1078  10114             V1659              Fam hx-urinry malig NEC   \n",
      "1079  10116             V167              Fam hx-lymph neoplas NEC   \n",
      "1080  10117             V168              Family hx-malignancy NEC   \n",
      "1081  10118             V169              Family hx-malignancy NOS   \n",
      "1082  14524             V8401             Genetc sus mal neo brest   \n",
      "1083  14525             V8402             Genetc sus mal neo ovary   \n",
      "1084  14526             V8403             Genetc sus mal neo prost   \n",
      "1085  14527             V8404             Genetc susc mal neo endo   \n",
      "1086  14528             V8409             Genetic susc mal neo NEC   \n",
      "1087  14055             V711              Obsv-suspct mal neoplasm   \n",
      "\n",
      "                                            long_tittle  \n",
      "0     Malignant neoplasm of intestinal tract, part u...  \n",
      "1     Malignant neoplasm of spleen, not elsewhere cl...  \n",
      "2     Malignant neoplasm of other sites of digestive...  \n",
      "3     Malignant neoplasm of ill-defined sites within...  \n",
      "4     Malignant neoplasm of connective and other sof...  \n",
      "5     Malignant neoplasm of connective and other sof...  \n",
      "6     Malignant neoplasm of connective and other sof...  \n",
      "7     Malignant neoplasm of connective and other sof...  \n",
      "8     Malignant neoplasm of connective and other sof...  \n",
      "9     Malignant neoplasm of connective and other sof...  \n",
      "10    Malignant neoplasm of other specified sites of...  \n",
      "11    Malignant neoplasm of connective and other sof...  \n",
      "12        Unspecified malignant neoplasm of skin of lip  \n",
      "13    Other specified malignant neoplasm of skin of lip  \n",
      "14    Unspecified malignant neoplasm of eyelid, incl...  \n",
      "15    Other specified malignant neoplasm of eyelid, ...  \n",
      "16    Unspecified malignant neoplasm of skin of ear ...  \n",
      "17    Other specified malignant neoplasm of skin of ...  \n",
      "18    Unspecified malignant neoplasm of skin of othe...  \n",
      "19    Other specified malignant neoplasm of skin of ...  \n",
      "20    Unspecified malignant neoplasm of scalp and sk...  \n",
      "21    Other specified malignant neoplasm of scalp an...  \n",
      "22    Unspecified malignant neoplasm of skin of trun...  \n",
      "23    Other specified malignant neoplasm of skin of ...  \n",
      "24    Unspecified malignant neoplasm of skin of uppe...  \n",
      "...                                                 ...  \n",
      "1063  Personal history of malignant neoplasm of male...  \n",
      "1064  Personal history of malignant neoplasm of pros...  \n",
      "1065   Personal history of malignant neoplasm of testis  \n",
      "1066  Personal history of malignant neoplasm of epid...  \n",
      "1067  Family history of malignant neoplasm of gastro...  \n",
      "1068  Family history of malignant neoplasm of trache...  \n",
      "1069  Family history of malignant neoplasm of other ...  \n",
      "1070     Family history of malignant neoplasm of breast  \n",
      "1071  Family history of malignant neoplasm of genita...  \n",
      "1072      Family history of malignant neoplasm of ovary  \n",
      "1073   Family history of malignant neoplasm of prostate  \n",
      "1074     Family history of malignant neoplasm of testis  \n",
      "1075  Family history of malignant neoplasm of other ...  \n",
      "1076     Family history of malignant neoplasm of kidney  \n",
      "1077      Family history of malignant neoplasm, bladder  \n",
      "1078  Family history of malignant neoplasm of other ...  \n",
      "1079  Family history of other lymphatic and hematopo...  \n",
      "1080  Family history of other specified malignant ne...  \n",
      "1081   Family history of unspecified malignant neoplasm  \n",
      "1082  Genetic susceptibility to malignant neoplasm o...  \n",
      "1083  Genetic susceptibility to malignant neoplasm o...  \n",
      "1084  Genetic susceptibility to malignant neoplasm o...  \n",
      "1085  Genetic susceptibility to malignant neoplasm o...  \n",
      "1086  Genetic susceptibility to other malignant neop...  \n",
      "1087       Observation for suspected malignant neoplasm  \n",
      "\n",
      "[1088 rows x 4 columns]\n"
     ]
    }
   ],
   "source": [
    "SQL = \"SELECT row_id, icd9_id, short_tittle, long_tittle FROM diagcid where long_tittle like '%neoplasm%'\"\n",
    "tabular(SQL)"
   ]
  },
  {
   "cell_type": "markdown",
   "metadata": {},
   "source": [
    "How many patients having cancer, in other words, having neoplasm."
   ]
  },
  {
   "cell_type": "code",
   "execution_count": 21,
   "metadata": {
    "collapsed": false
   },
   "outputs": [
    {
     "name": "stdout",
     "output_type": "stream",
     "text": [
      "   count\n",
      "0   1088\n"
     ]
    }
   ],
   "source": [
    "SQL = \"select COUNT(*) from diagcid where long_tittle like '%neoplasm%'\"\n",
    "tabular(SQL)"
   ]
  },
  {
   "cell_type": "code",
   "execution_count": 13,
   "metadata": {
    "collapsed": false
   },
   "outputs": [
    {
     "name": "stdout",
     "output_type": "stream",
     "text": [
      "               icd9_id\n",
      "0     1590            \n",
      "1     1591            \n",
      "2     1598            \n",
      "3     1599            \n",
      "4     1712            \n",
      "5     1713            \n",
      "6     1714            \n",
      "7     1715            \n",
      "8     1716            \n",
      "9     1717            \n",
      "10    1718            \n",
      "11    1719            \n",
      "12    17300           \n",
      "13    17309           \n",
      "14    17310           \n",
      "15    17319           \n",
      "16    17320           \n",
      "17    17329           \n",
      "18    17330           \n",
      "19    17339           \n",
      "20    17340           \n",
      "21    17349           \n",
      "22    17350           \n",
      "23    17359           \n",
      "24    17360           \n",
      "...                ...\n",
      "1063  V1045           \n",
      "1064  V1046           \n",
      "1065  V1047           \n",
      "1066  V1048           \n",
      "1067  V160            \n",
      "1068  V161            \n",
      "1069  V162            \n",
      "1070  V163            \n",
      "1071  V1640           \n",
      "1072  V1641           \n",
      "1073  V1642           \n",
      "1074  V1643           \n",
      "1075  V1649           \n",
      "1076  V1651           \n",
      "1077  V1652           \n",
      "1078  V1659           \n",
      "1079  V167            \n",
      "1080  V168            \n",
      "1081  V169            \n",
      "1082  V8401           \n",
      "1083  V8402           \n",
      "1084  V8403           \n",
      "1085  V8404           \n",
      "1086  V8409           \n",
      "1087  V711            \n",
      "\n",
      "[1088 rows x 1 columns]\n"
     ]
    }
   ],
   "source": [
    "SQL = \"select icd9_id from diagcid where long_tittle like '%neoplasm%'\"\n",
    "tabular(SQL)"
   ]
  }
 ],
 "metadata": {
  "kernelspec": {
   "display_name": "Python 2",
   "language": "python",
   "name": "python2"
  },
  "language_info": {
   "codemirror_mode": {
    "name": "ipython",
    "version": 2
   },
   "file_extension": ".py",
   "mimetype": "text/x-python",
   "name": "python",
   "nbconvert_exporter": "python",
   "pygments_lexer": "ipython2",
   "version": "2.7.10"
  }
 },
 "nbformat": 4,
 "nbformat_minor": 0
}
